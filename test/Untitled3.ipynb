{
 "cells": [
  {
   "cell_type": "code",
   "execution_count": 33,
   "id": "04e6ff29",
   "metadata": {},
   "outputs": [],
   "source": [
    "import collections\n",
    "\n",
    "import numpy as np\n",
    "import matplotlib.pyplot as plt\n",
    "import matplotlib.collections\n",
    "\n",
    "#test500-2.npy"
   ]
  },
  {
   "cell_type": "code",
   "execution_count": 34,
   "id": "ed664b20",
   "metadata": {},
   "outputs": [],
   "source": [
    "data = np.load(\"base/test.npy\")\n"
   ]
  },
  {
   "cell_type": "code",
   "execution_count": 35,
   "id": "1e05a9fb",
   "metadata": {},
   "outputs": [
    {
     "data": {
      "text/plain": [
       "array([[[-0.46093318, -0.46093318, -0.46093318, -0.46093318,\n",
       "         -0.46093318, -0.46093318, -0.46093318, -0.46093318,\n",
       "         -0.46093318, -0.46093318, -0.46093318, -0.46093318,\n",
       "         -0.46093318, -0.46093318, -0.46093318, -0.46093318,\n",
       "         -0.46093318, -0.46093318, -0.46093318, -0.46093318,\n",
       "         -0.46093318, -0.46093318, -0.46093318, -0.46093318,\n",
       "         -0.46093318, -0.46093318, -0.46093318, -0.46093318,\n",
       "         -0.46093318, -0.46093318, -0.46093318, -0.46093318,\n",
       "         -0.46093318, -0.46093318, -0.46093318, -0.46093318,\n",
       "         -0.46093318, -0.46093318, -0.46093318, -0.46093318,\n",
       "         -0.46093318, -0.46093318, -0.46093318, -0.46093318,\n",
       "         -0.46093318],\n",
       "        [ 0.4980355 ,  0.4980355 ,  0.4980355 ,  0.4980355 ,\n",
       "          0.4980355 ,  0.4980355 ,  0.4980355 ,  0.4980355 ,\n",
       "          0.4980355 ,  0.4980355 ,  0.4980355 ,  0.4980355 ,\n",
       "          0.4980355 ,  0.4980355 ,  0.4980355 ,  0.4980355 ,\n",
       "          0.4980355 ,  0.4980355 ,  0.4980355 ,  0.4980355 ,\n",
       "          0.4980355 ,  0.4980355 ,  0.4980355 ,  0.4980355 ,\n",
       "          0.4980355 ,  0.4980355 ,  0.4980355 ,  0.4980355 ,\n",
       "          0.4980355 ,  0.4980355 ,  0.4980355 ,  0.4980355 ,\n",
       "          0.4980355 ,  0.4980355 ,  0.4980355 ,  0.4980355 ,\n",
       "          0.4980355 ,  0.4980355 ,  0.4980355 ,  0.4980355 ,\n",
       "          0.4980355 ,  0.4980355 ,  0.4980355 ,  0.4980355 ,\n",
       "          0.4980355 ]],\n",
       "\n",
       "       [[-0.29841748, -0.29841748, -0.29841748, -0.29841748,\n",
       "         -0.29841748, -0.29841748, -0.29841748, -0.29841748,\n",
       "         -0.29841748, -0.29841748, -0.29841748, -0.29841748,\n",
       "         -0.29841748, -0.29841748, -0.29841748, -0.29841748,\n",
       "         -0.29841748, -0.29841748, -0.29841748, -0.29841748,\n",
       "         -0.29841748, -0.29841748, -0.29841748, -0.29841748,\n",
       "         -0.29841748, -0.29841748, -0.29841748, -0.29841748,\n",
       "         -0.29841748, -0.29841748, -0.29841748, -0.29841748,\n",
       "         -0.29841748, -0.29841748, -0.29841748, -0.29841748,\n",
       "         -0.29841748, -0.29841748, -0.29841748, -0.29841748,\n",
       "         -0.29841748, -0.29841748, -0.29841748, -0.29841748,\n",
       "         -0.29841748],\n",
       "        [-0.02298357, -0.02298357, -0.02298357, -0.02298357,\n",
       "         -0.02298357, -0.02298357, -0.02298357, -0.02298357,\n",
       "         -0.02298357, -0.02298357, -0.02298357, -0.02298357,\n",
       "         -0.02298357, -0.02298357, -0.02298357, -0.02298357,\n",
       "         -0.02298357, -0.02298357, -0.02298357, -0.02298357,\n",
       "         -0.02298357, -0.02298357, -0.02298357, -0.02298357,\n",
       "         -0.02298357, -0.02298357, -0.02298357, -0.02298357,\n",
       "         -0.02298357, -0.02298357, -0.02298357, -0.02298357,\n",
       "         -0.02298357, -0.02298357, -0.02298357, -0.02298357,\n",
       "         -0.02298357, -0.02298357, -0.02298357, -0.02298357,\n",
       "         -0.02298357, -0.02298357, -0.02298357, -0.02298357,\n",
       "         -0.02298357]],\n",
       "\n",
       "       [[ 0.02765401,  0.02765401,  0.02765401,  0.02765401,\n",
       "          0.02765401,  0.02765401,  0.02765401,  0.02765401,\n",
       "          0.02765401,  0.02765401,  0.02765401,  0.02765401,\n",
       "          0.02765401,  0.02765401,  0.02765401,  0.02765401,\n",
       "          0.02765401,  0.02765401,  0.02765401,  0.02765401,\n",
       "          0.02765401,  0.02765401,  0.02765401,  0.02765401,\n",
       "          0.02765401,  0.02765401,  0.02765401,  0.02765401,\n",
       "          0.02765401,  0.02765401,  0.02765401,  0.02765401,\n",
       "          0.02765401,  0.02765401,  0.02765401,  0.02765401,\n",
       "          0.02765401,  0.02765401,  0.02765401,  0.02765401,\n",
       "          0.02765401,  0.02765401,  0.02765401,  0.02765401,\n",
       "          0.02765401],\n",
       "        [-0.6587882 , -0.6587882 , -0.6587882 , -0.6587882 ,\n",
       "         -0.6587882 , -0.6587882 , -0.6587882 , -0.6587882 ,\n",
       "         -0.6587882 , -0.6587882 , -0.6587882 , -0.6587882 ,\n",
       "         -0.6587882 , -0.6587882 , -0.6587882 , -0.6587882 ,\n",
       "         -0.6587882 , -0.6587882 , -0.6587882 , -0.6587882 ,\n",
       "         -0.6587882 , -0.6587882 , -0.6587882 , -0.6587882 ,\n",
       "         -0.6587882 , -0.6587882 , -0.6587882 , -0.6587882 ,\n",
       "         -0.6587882 , -0.6587882 , -0.6587882 , -0.6587882 ,\n",
       "         -0.6587882 , -0.6587882 , -0.6587882 , -0.6587882 ,\n",
       "         -0.6587882 , -0.6587882 , -0.6587882 , -0.6587882 ,\n",
       "         -0.6587882 , -0.6587882 , -0.6587882 , -0.6587882 ,\n",
       "         -0.6587882 ]],\n",
       "\n",
       "       [[-0.50784135, -0.50784135, -0.50784135, -0.50784135,\n",
       "         -0.50784135, -0.50784135, -0.50784135, -0.50784135,\n",
       "         -0.50784135, -0.50784135, -0.50784135, -0.50784135,\n",
       "         -0.50784135, -0.50784135, -0.50784135, -0.50784135,\n",
       "         -0.50784135, -0.50784135, -0.50784135, -0.50784135,\n",
       "         -0.50784135, -0.50784135, -0.50784135, -0.50784135,\n",
       "         -0.50784135, -0.50784135, -0.50784135, -0.50784135,\n",
       "         -0.50784135, -0.50784135, -0.50784135, -0.50784135,\n",
       "         -0.50784135, -0.50784135, -0.50784135, -0.50784135,\n",
       "         -0.50784135, -0.50784135, -0.50784135, -0.50784135,\n",
       "         -0.50784135, -0.50784135, -0.50784135, -0.50784135,\n",
       "         -0.50784135],\n",
       "        [-0.41516203, -0.41516203, -0.41516203, -0.41516203,\n",
       "         -0.41516203, -0.41516203, -0.41516203, -0.41516203,\n",
       "         -0.41516203, -0.41516203, -0.41516203, -0.41516203,\n",
       "         -0.41516203, -0.41516203, -0.41516203, -0.41516203,\n",
       "         -0.41516203, -0.41516203, -0.41516203, -0.41516203,\n",
       "         -0.41516203, -0.41516203, -0.41516203, -0.41516203,\n",
       "         -0.41516203, -0.41516203, -0.41516203, -0.41516203,\n",
       "         -0.41516203, -0.41516203, -0.41516203, -0.41516203,\n",
       "         -0.41516203, -0.41516203, -0.41516203, -0.41516203,\n",
       "         -0.41516203, -0.41516203, -0.41516203, -0.41516203,\n",
       "         -0.41516203, -0.41516203, -0.41516203, -0.41516203,\n",
       "         -0.41516203]]], dtype=float32)"
      ]
     },
     "execution_count": 35,
     "metadata": {},
     "output_type": "execute_result"
    }
   ],
   "source": [
    "data"
   ]
  },
  {
   "cell_type": "code",
   "execution_count": 17,
   "id": "973406b0",
   "metadata": {},
   "outputs": [],
   "source": [
    "diameter = 2.0\n",
    "height = 2.0\n",
    "radius = diameter/np.pi\n",
    "data_ = data + 1.0 #[-1.0, -1.0] to [0.0, 2.0]\n",
    "zdata = data[:, 0, :]\n",
    "thetadata = data[:, 1, :]/2*2*np.pi\n",
    "rdata = np.ones_like(zdata)*radius\n",
    "tdata = np.linspace(0, 1, data.shape[-1])"
   ]
  },
  {
   "cell_type": "code",
   "execution_count": 24,
   "id": "66023912",
   "metadata": {},
   "outputs": [
    {
     "data": {
      "text/plain": [
       "[<matplotlib.lines.Line2D at 0x7f60887555b0>]"
      ]
     },
     "execution_count": 24,
     "metadata": {},
     "output_type": "execute_result"
    },
    {
     "data": {
      "image/png": "[encoded data removed]",
      "text/plain": [
       "<Figure size 432x288 with 1 Axes>"
      ]
     },
     "metadata": {
      "needs_background": "light"
     },
     "output_type": "display_data"
    }
   ],
   "source": [
    "index = 0\n",
    "plt.plot(tdata, thetadata[0, :])"
   ]
  },
  {
   "cell_type": "code",
   "execution_count": 26,
   "id": "e4acbc63",
   "metadata": {},
   "outputs": [
    {
     "data": {
      "text/plain": [
       "array([[[ 1.21578455e-01,  1.21578455e-01,  1.21578455e-01, ...,\n",
       "          1.21578455e-01,  1.21578455e-01,  1.21578455e-01],\n",
       "        [-7.59627163e-01, -7.59627163e-01, -7.59627163e-01, ...,\n",
       "         -7.59627163e-01, -7.59627163e-01, -7.59627163e-01]],\n",
       "\n",
       "       [[-8.08073997e-01, -8.08073997e-01, -8.08073997e-01, ...,\n",
       "         -8.08073997e-01, -8.08073997e-01, -8.08073997e-01],\n",
       "        [ 7.25525955e-04,  7.25525955e-04,  7.25525955e-04, ...,\n",
       "          7.25525955e-04,  7.25525955e-04,  7.25525955e-04]],\n",
       "\n",
       "       [[ 9.12769318e-01,  9.12769318e-01,  9.12769318e-01, ...,\n",
       "          9.12769318e-01,  9.12769318e-01,  9.12769318e-01],\n",
       "        [ 1.87992677e-01,  1.87992677e-01,  1.87992677e-01, ...,\n",
       "          1.87992677e-01,  1.87992677e-01,  1.87992677e-01]],\n",
       "\n",
       "       ...,\n",
       "\n",
       "       [[-1.30722106e-01, -1.30722106e-01, -1.30722106e-01, ...,\n",
       "         -1.30722106e-01, -1.30722106e-01, -1.30722106e-01],\n",
       "        [-4.54832464e-01, -4.54832464e-01, -4.54832464e-01, ...,\n",
       "         -4.54832464e-01, -4.54832464e-01, -4.54832464e-01]],\n",
       "\n",
       "       [[ 6.17684841e-01,  6.17684841e-01,  6.17684841e-01, ...,\n",
       "          6.17684841e-01,  6.17684841e-01,  6.17684841e-01],\n",
       "        [-3.87245685e-01, -3.87245685e-01, -3.87245685e-01, ...,\n",
       "         -3.87245685e-01, -3.87245685e-01, -3.87245685e-01]],\n",
       "\n",
       "       [[ 8.07164431e-01,  8.07164431e-01,  8.07164431e-01, ...,\n",
       "          8.07164431e-01,  8.07164431e-01,  8.07164431e-01],\n",
       "        [ 5.20714760e-01,  5.20714760e-01,  5.20714760e-01, ...,\n",
       "          5.20714760e-01,  5.20714760e-01,  5.20714760e-01]]],\n",
       "      dtype=float32)"
      ]
     },
     "execution_count": 26,
     "metadata": {},
     "output_type": "execute_result"
    }
   ],
   "source": [
    "data"
   ]
  },
  {
   "cell_type": "code",
   "execution_count": null,
   "id": "565b0a1f",
   "metadata": {},
   "outputs": [],
   "source": []
  }
 ],
 "metadata": {
  "kernelspec": {
   "display_name": "Python 3 (ipykernel)",
   "language": "python",
   "name": "python3"
  },
  "language_info": {
   "codemirror_mode": {
    "name": "ipython",
    "version": 3
   },
   "file_extension": ".py",
   "mimetype": "text/x-python",
   "name": "python",
   "nbconvert_exporter": "python",
   "pygments_lexer": "ipython3",
   "version": "3.9.7"
  }
 },
 "nbformat": 4,
 "nbformat_minor": 5
}
